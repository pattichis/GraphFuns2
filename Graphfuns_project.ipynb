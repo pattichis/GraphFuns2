{
  "cells": [
    {
      "cell_type": "markdown",
      "metadata": {
        "id": "view-in-github",
        "colab_type": "text"
      },
      "source": [
        "<a href=\"https://colab.research.google.com/github/pattichis/GraphFuns2/blob/main/Graphfuns_project.ipynb\" target=\"_parent\"><img src=\"https://colab.research.google.com/assets/colab-badge.svg\" alt=\"Open In Colab\"/></a>"
      ]
    },
    {
      "cell_type": "markdown",
      "source": [],
      "metadata": {
        "id": "GU_Syb9BvyBG"
      }
    },
    {
      "cell_type": "markdown",
      "metadata": {
        "id": "nenVXL6OTnKo"
      },
      "source": [
        "# Setup"
      ]
    },
    {
      "cell_type": "markdown",
      "metadata": {
        "id": "YjHf0G1dEBq8"
      },
      "source": [
        "The following code sets up the system by downloading the library from the web."
      ]
    },
    {
      "cell_type": "code",
      "execution_count": 1,
      "metadata": {
        "colab": {
          "base_uri": "https://localhost:8080/",
          "height": 862
        },
        "id": "j5bKHr_pEBq8",
        "outputId": "cf314121-c2fc-46be-a36a-db1ada6d7231"
      },
      "outputs": [
        {
          "output_type": "stream",
          "name": "stdout",
          "text": [
            "Collecting kaleido\n",
            "  Downloading kaleido-0.2.1-py2.py3-none-manylinux1_x86_64.whl.metadata (15 kB)\n",
            "Downloading kaleido-0.2.1-py2.py3-none-manylinux1_x86_64.whl (79.9 MB)\n",
            "\u001b[2K   \u001b[90m━━━━━━━━━━━━━━━━━━━━━━━━━━━━━━━━━━━━━━━━\u001b[0m \u001b[32m79.9/79.9 MB\u001b[0m \u001b[31m8.0 MB/s\u001b[0m eta \u001b[36m0:00:00\u001b[0m\n",
            "\u001b[?25hInstalling collected packages: kaleido\n",
            "Successfully installed kaleido-0.2.1\n",
            "Mounted at /content/drive\n",
            "--2025-03-06 14:43:50--  https://raw.githubusercontent.com/pattichis/GraphSpeeds/main/lineart_v3.py\n",
            "Resolving raw.githubusercontent.com (raw.githubusercontent.com)... 185.199.108.133, 185.199.109.133, 185.199.110.133, ...\n",
            "Connecting to raw.githubusercontent.com (raw.githubusercontent.com)|185.199.108.133|:443... connected.\n",
            "HTTP request sent, awaiting response... 200 OK\n",
            "Length: 30381 (30K) [text/plain]\n",
            "Saving to: ‘lineart_v3.py’\n",
            "\n",
            "lineart_v3.py       100%[===================>]  29.67K  --.-KB/s    in 0.003s  \n",
            "\n",
            "2025-03-06 14:43:50 (10.5 MB/s) - ‘lineart_v3.py’ saved [30381/30381]\n",
            "\n",
            "pygame 2.6.1 (SDL 2.28.4, Python 3.11.11)\n",
            "Hello from the pygame community. https://www.pygame.org/contribute.html\n"
          ]
        },
        {
          "output_type": "stream",
          "name": "stderr",
          "text": [
            "WARNING:py.warnings:/usr/local/lib/python3.11/dist-packages/moviepy/video/io/sliders.py:61: SyntaxWarning: \"is\" with a literal. Did you mean \"==\"?\n",
            "  if event.key is 'enter':\n",
            "\n"
          ]
        },
        {
          "output_type": "error",
          "ename": "ModuleNotFoundError",
          "evalue": "No module named 'symbolic_graphs2'",
          "traceback": [
            "\u001b[0;31m---------------------------------------------------------------------------\u001b[0m",
            "\u001b[0;31mModuleNotFoundError\u001b[0m                       Traceback (most recent call last)",
            "\u001b[0;32m<ipython-input-1-f1629d697aec>\u001b[0m in \u001b[0;36m<cell line: 0>\u001b[0;34m()\u001b[0m\n\u001b[1;32m     24\u001b[0m \u001b[0;34m\u001b[0m\u001b[0m\n\u001b[1;32m     25\u001b[0m \u001b[0;31m# Import symbolic plotting functions\u001b[0m\u001b[0;34m\u001b[0m\u001b[0;34m\u001b[0m\u001b[0m\n\u001b[0;32m---> 26\u001b[0;31m \u001b[0;32mfrom\u001b[0m \u001b[0msymbolic_graphs2\u001b[0m \u001b[0;32mimport\u001b[0m \u001b[0mgraph_funs\u001b[0m\u001b[0;34m\u001b[0m\u001b[0;34m\u001b[0m\u001b[0m\n\u001b[0m\u001b[1;32m     27\u001b[0m \u001b[0;32mimport\u001b[0m \u001b[0mnumpy\u001b[0m \u001b[0;32mas\u001b[0m \u001b[0mnp\u001b[0m\u001b[0;34m\u001b[0m\u001b[0;34m\u001b[0m\u001b[0m\n\u001b[1;32m     28\u001b[0m \u001b[0;34m\u001b[0m\u001b[0m\n",
            "\u001b[0;31mModuleNotFoundError\u001b[0m: No module named 'symbolic_graphs2'",
            "",
            "\u001b[0;31m---------------------------------------------------------------------------\u001b[0;32m\nNOTE: If your import is failing due to a missing package, you can\nmanually install dependencies using either !pip or !apt.\n\nTo view examples of installing some common dependencies, click the\n\"Open Examples\" button below.\n\u001b[0;31m---------------------------------------------------------------------------\u001b[0m\n"
          ],
          "errorDetails": {
            "actions": [
              {
                "action": "open_url",
                "actionText": "Open Examples",
                "url": "/notebooks/snippets/importing_libraries.ipynb"
              }
            ]
          }
        }
      ],
      "source": [
        "# Remove existing files\n",
        "import os\n",
        "\n",
        "VS_CODE = False # Set to True if using Visual Studio\n",
        "if (not VS_CODE):\n",
        "    !pip install -U kaleido\n",
        "\n",
        "    os.chdir(\"/content/\")\n",
        "    #!find './' -maxdepth 1 -type f -delete\n",
        "\n",
        "    # Mount the drive:\n",
        "    from google.colab import drive\n",
        "    drive.mount('/content/drive')\n",
        "\n",
        "    # Download the lineart library\n",
        "    !wget -nc https://raw.githubusercontent.com/pattichis/GraphSpeeds/main/lineart_v3.py\n",
        "\n",
        "    # Download the symbolic graphs library.\n",
        "    #!wget 'https://raw.githubusercontent.com/pattichis/GraphFuns2/main/symbolic_graphs2.py'\n",
        "\n",
        "\n",
        "# Import functions for creating videos\n",
        "from lineart_v3 import table, simulationVideo, textImage, plotTablesLines, CreateVideo, changeVideoSpeed\n",
        "\n",
        "# Import symbolic plotting functions\n",
        "from symbolic_graphs2 import graph_funs\n",
        "import numpy as np\n",
        "\n",
        "# Import the library:\n",
        "import sympy as sp\n",
        "\n",
        "from sympy.interactive.printing import init_printing\n",
        "init_printing()"
      ]
    },
    {
      "cell_type": "code",
      "source": [
        "import glob\n",
        "\n",
        "# Find all Python files\n",
        "python_files = glob.glob(\"/content/**/*.py\", recursive=True)\n",
        "\n",
        "# Print file paths\n",
        "print(python_files)"
      ],
      "metadata": {
        "colab": {
          "base_uri": "https://localhost:8080/"
        },
        "id": "tok-OnWq7Bil",
        "outputId": "d8a1647d-9fda-4895-9962-742e75b082e7"
      },
      "execution_count": 6,
      "outputs": [
        {
          "output_type": "stream",
          "name": "stdout",
          "text": [
            "[]\n"
          ]
        }
      ]
    },
    {
      "cell_type": "markdown",
      "metadata": {
        "id": "pHOGHQ2MTnKx"
      },
      "source": [
        "# Connecting graphs using horizontal and vertical translations\n",
        "\n",
        "1. Modify the domain and the function for $f(x)=5\\cdot 2^x$.\n",
        "2. Connect the graphs for two copies of $f(x)=5\\cdot 2^x$.\n",
        "3. Verify that the substituted copies are the same.\n",
        "3. Extend with a third copy of $f(x)$."
      ]
    },
    {
      "cell_type": "code",
      "source": [
        "from sympy import symbols, solve\n",
        "\n",
        "# Define variables\n",
        "x, y = symbols('x y')\n",
        "\n",
        "# Define function f(x)\n",
        "f_x = 0.5*2**(-x+3) + 1  # Example function\n",
        "\n",
        "# Solve for x in terms of y (inverse function)\n",
        "inverse_f = solve(y - f_x, x)[0]\n",
        "\n",
        "print(inverse_f)\n",
        "inverse_f = inverse_f.subs(y, x)\n",
        "\n",
        "print(inverse_f)"
      ],
      "metadata": {
        "colab": {
          "base_uri": "https://localhost:8080/"
        },
        "id": "B4Gsl3BQfU1z",
        "outputId": "8c1f19a5-749a-4ee5-d57f-d0dbc1d410e8"
      },
      "execution_count": 2,
      "outputs": [
        {
          "output_type": "stream",
          "name": "stdout",
          "text": [
            "1.44269504088896*log(4.0/(y - 1.0))\n",
            "1.44269504088896*log(4.0/(x - 1.0))\n"
          ]
        }
      ]
    },
    {
      "cell_type": "code",
      "source": [
        "# MODIFY to add multiple transformations\n",
        "\n",
        "# Define x as a symbolic variable\n",
        "x = sp.symbols('x')\n",
        "\n",
        "# Define exponential function\n",
        "f1 = 2*(3.0)**(x)\n",
        "\n",
        "# Create a graph object\n",
        "plot = graph_funs()\n",
        "\n",
        "# Setup the grid\n",
        "# Determine the range for X based on reflections and translations.\n",
        "# Determine the range for Y based on reflections and translations (look at maximum values).\n",
        "plot.set_XY(minX=-5, maxX=+7, minY=-40, maxY=+40)\n",
        "\n",
        "# Add to the list of functions:\n",
        "domain1 = [0, 2, 20]\n",
        "\n",
        "# Plot fun\n",
        "plot.add_fun(f1, domain1, 'f1(x)='+str(f1), 'red')  # Add the original function.\n",
        "plot.plot_funs(plot_title=\"Original function f1 (red)\", img_name=\"frame1.png\")\n",
        "\n",
        "# Horizontal and vertical translation to glue them together.\n",
        "domain2 = [2, 4, 20] # Shift the x-domain # COMPUTE THE NEW DOMAIN\n",
        "f2 = f1.subs(x, x-2) # Horizontal shift f2 by 2\n",
        "f2 = f2 + f1.subs(x, 2) - f2.subs(x, 2) # Vertical shift to connect them.\n",
        "plot.add_fun(f2, domain2, 'f2(x)='+str(f2), 'red')   # Add the reflection.\n",
        "plot.plot_funs(plot_title=\"f1 and f2\", img_name=\"frame2.png\")\n",
        "\n",
        "# Verify the substitution and shift:\n",
        "f3 = 2*(3.0)**(x-2)+(2*3**(2)) - 2\n",
        "print(\"Compare: substitution \", f2, \" against manual substitution \", f3)\n",
        "\n",
        "dir(graph_funs)\n",
        "\n",
        "# Add the inverse function.\n",
        "plot.add_inverse_fun(f2, domain2, 'inverse of f2', 'yellow')\n",
        "plot.plot_funs(plot_title=\"f1, f2, and inverse f2\", img_name=\"frame3.png\")\n"
      ],
      "metadata": {
        "colab": {
          "base_uri": "https://localhost:8080/",
          "height": 259
        },
        "outputId": "98eb9a68-e66c-4ea0-e5cf-ec5e3dfb297d",
        "id": "u-k88yZ6c7rb"
      },
      "execution_count": 3,
      "outputs": [
        {
          "output_type": "error",
          "ename": "NameError",
          "evalue": "name 'sp' is not defined",
          "traceback": [
            "\u001b[0;31m---------------------------------------------------------------------------\u001b[0m",
            "\u001b[0;31mNameError\u001b[0m                                 Traceback (most recent call last)",
            "\u001b[0;32m<ipython-input-3-1dfa0a9bbc70>\u001b[0m in \u001b[0;36m<cell line: 0>\u001b[0;34m()\u001b[0m\n\u001b[1;32m      2\u001b[0m \u001b[0;34m\u001b[0m\u001b[0m\n\u001b[1;32m      3\u001b[0m \u001b[0;31m# Define x as a symbolic variable\u001b[0m\u001b[0;34m\u001b[0m\u001b[0;34m\u001b[0m\u001b[0m\n\u001b[0;32m----> 4\u001b[0;31m \u001b[0mx\u001b[0m \u001b[0;34m=\u001b[0m \u001b[0msp\u001b[0m\u001b[0;34m.\u001b[0m\u001b[0msymbols\u001b[0m\u001b[0;34m(\u001b[0m\u001b[0;34m'x'\u001b[0m\u001b[0;34m)\u001b[0m\u001b[0;34m\u001b[0m\u001b[0;34m\u001b[0m\u001b[0m\n\u001b[0m\u001b[1;32m      5\u001b[0m \u001b[0;34m\u001b[0m\u001b[0m\n\u001b[1;32m      6\u001b[0m \u001b[0;31m# Define exponential function\u001b[0m\u001b[0;34m\u001b[0m\u001b[0;34m\u001b[0m\u001b[0m\n",
            "\u001b[0;31mNameError\u001b[0m: name 'sp' is not defined"
          ]
        }
      ]
    },
    {
      "cell_type": "markdown",
      "metadata": {
        "id": "N0oBe2hrEBrA"
      },
      "source": [
        "# Assignment: Create a closed figure using reflections and translations\n",
        "\n",
        "Study the reflections example first.\n",
        "1. Extend the reflections example to generate the 4 components needed.\n",
        "2. Modify the domains and apply translations to connect them."
      ]
    },
    {
      "cell_type": "code",
      "source": [
        "# MODIFY to add multiple transformations\n",
        "\n",
        "# Define x as a symbolic variable\n",
        "x = sp.symbols('x')\n",
        "\n",
        "# Define exponential function\n",
        "f1 = 2*(3.0)**(x)\n",
        "\n",
        "# Create a graph object\n",
        "plot = graph_funs()\n",
        "\n",
        "# Setup the grid\n",
        "# Determine the range for X based on reflections and translations.\n",
        "# Determine the range for Y based on reflections and translations (look at maximum values).\n",
        "plot.set_XY(minX=-5, maxX=+7, minY=-40, maxY=+40)\n",
        "\n",
        "# Add to the list of functions:\n",
        "domain1 = [0, 2, 20]\n",
        "\n",
        "# Plot fun\n",
        "plot.add_fun(f1, domain1, 'f1(x)='+str(f1), 'red')  # Add the original function.\n",
        "plot.plot_funs(plot_title=\"Original function f1 (red)\", img_name=\"frame1.png\")\n",
        "\n",
        "# Reflections using substitutions:\n",
        "f2 = -f1\n",
        "plot.add_fun(f2, domain1, 'f2(x)=-f1(x)', 'red')   # Add the reflection.\n",
        "plot.plot_funs(plot_title=\"f2: f2(x)=-f1(x)\", img_name=\"frame2.png\")\n",
        "\n",
        "f3 = f1.subs(x, -x)\n",
        "domain2 = [-2, 0, 30]\n",
        "plot.add_fun(f3, domain2, 'f3(x)=f1(-x)', 'red')   # Add the reflection.\n",
        "plot.plot_funs(plot_title=\"f3: f3(x)=f1(-x)\", img_name=\"frame3.png\")\n",
        "\n",
        "# Verify the substitution formula\n",
        "f4 = 2*(3.0)**(-x)\n",
        "print(\"Compare: substitution \", f3, \" against manual substitution \", f4)\n",
        "\n"
      ],
      "metadata": {
        "id": "mFe9k92KipV7"
      },
      "execution_count": null,
      "outputs": []
    },
    {
      "cell_type": "markdown",
      "source": [
        "# Pending\n",
        "1. Examples for vertical and horizontal dilations.\n",
        "2. Connect dilated functions.\n",
        "2. Create multiple copies of functions."
      ],
      "metadata": {
        "id": "E9NEZTZgmxix"
      }
    },
    {
      "cell_type": "code",
      "execution_count": null,
      "metadata": {
        "id": "bq5GJ6cWwkal"
      },
      "outputs": [],
      "source": [
        "# MODIFY to add multiple transformations\n",
        "\n",
        "# Define x as a symbolic variable\n",
        "x = sp.symbols('x')\n",
        "\n",
        "# Define exponential function\n",
        "f1 = 2*(3.0)**(x)\n",
        "\n",
        "# Create a graph object\n",
        "plot = graph_funs()\n",
        "\n",
        "# Setup the grid\n",
        "# Determine the range for X based on reflections and translations.\n",
        "# Determine the range for Y based on reflections and translations (look at maximum values).\n",
        "plot.set_XY(minX=-5, maxX=+7, minY=-40, maxY=+40)\n",
        "\n",
        "# Add to the list of functions:\n",
        "domain1 = [0, 2, 20]\n",
        "\n",
        "# Show the table for the function:\n",
        "fun_table = table()\n",
        "fun_table.showTable(f1, domain1, 'f1_table.png')\n",
        "\n",
        "# Plot it\n",
        "plot.add_fun(f1, domain1, 'f1', 'red')  # Add the original function.\n",
        "plot.plot_funs(plot_title=\"Original function f1 (red)\", img_name=\"frame1.png\")\n",
        "\n",
        "f2, domain2 = plot.add_refl_across_x(f1, domain1, 'f2', 'orange') # Add its reflection.\n",
        "plot.plot_funs(plot_title=\"Added f2: reflection of f1 across x (orange)\", img_name=\"frame2.png\")\n",
        "\n",
        "f3, domain3 = plot.add_refl_across_y(f1, domain1, 'f3', 'yellow') # Add its reflection.\n",
        "plot.plot_funs(plot_title=\"Added f3: reflection of f1 across y (yellow)\", img_name=\"frame3.png\")\n",
        "\n",
        "# Let us transform the reflected graphs:\n",
        "f4, domain4 = plot.add_refl_across_y(f2, domain2, 'f4', 'green') # Add its reflection.\n",
        "plot.plot_funs(plot_title=\"Added f4: reflection of f2 across x (green)\", img_name=\"frame4.png\")\n",
        "\n",
        "# Translate up\n",
        "f5, domain5 = plot.add_vert_translation(f2, domain2, 2*(2*3**2), 'f5', 'blue')\n",
        "f6, domain6 = plot.add_vert_translation(f4, domain4, +36, 'f6', 'blue')\n",
        "plot.plot_funs(plot_title=\"Added f5, f6: translations of f2, f4 (blue)\", img_name=\"frame5.png\")\n",
        "\n",
        "# Translate down\n",
        "f7, domain7 = plot.add_vert_translation(f1, domain1, -36, 'f7', \"indigo\")\n",
        "f8, domain8 = plot.add_vert_translation(f3, domain3, -36, 'f6', \"indigo\")\n",
        "plot.plot_funs(plot_title=\"Added f7, f8: translations of f6, f7 (indigo)\", img_name=\"frame6.png\")\n",
        "\n",
        "# Translate right:\n",
        "dx=4\n",
        "f9, domain9   = plot.add_hor_translation(f1, domain1, dx, 'f9', 'olive')\n",
        "f10, domain10 = plot.add_hor_translation(f3, domain3, dx, 'f10', 'olive')\n",
        "f11, domain11 = plot.add_hor_translation(f6, domain6, dx, 'f11', 'olive')\n",
        "f12, domain12 = plot.add_hor_translation(f5, domain5, dx, 'f12', 'olive')\n",
        "\n",
        "f13, domain13 = plot.add_hor_translation(f2, domain2, dx, 'f13', 'olive')\n",
        "f14, domain14 = plot.add_hor_translation(f4, domain4, dx, 'f14', 'olive')\n",
        "f15, domain15 = plot.add_hor_translation(f7, domain7, dx, 'f15', 'olive')\n",
        "f16, domain16 = plot.add_hor_translation(f8, domain8, dx, 'f16', 'olive')\n",
        "\n",
        "plot.plot_funs(plot_title=\"Added f9-f16: translations of f1-f8 to the right\", img_name=\"frame7.png\")"
      ]
    }
  ],
  "metadata": {
    "colab": {
      "provenance": [],
      "include_colab_link": true
    },
    "kernelspec": {
      "display_name": "pytorch",
      "language": "python",
      "name": "python3"
    },
    "language_info": {
      "codemirror_mode": {
        "name": "ipython",
        "version": 3
      },
      "file_extension": ".py",
      "mimetype": "text/x-python",
      "name": "python",
      "nbconvert_exporter": "python",
      "pygments_lexer": "ipython3",
      "version": "3.10.13"
    }
  },
  "nbformat": 4,
  "nbformat_minor": 0
}